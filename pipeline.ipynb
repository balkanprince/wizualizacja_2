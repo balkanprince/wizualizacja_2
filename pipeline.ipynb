{
 "cells": [
  {
   "cell_type": "code",
   "execution_count": 2,
   "id": "7d8ce698-1d89-4772-bf70-639cc1bd51b7",
   "metadata": {},
   "outputs": [
    {
     "name": "stdout",
     "output_type": "stream",
     "text": [
      "\n",
      "Wyniki dla modelu: Logistic Regression (Pipeline)\n",
      "              precision    recall  f1-score   support\n",
      "\n",
      "           0       0.84      0.83      0.83       105\n",
      "           1       0.76      0.77      0.77        74\n",
      "\n",
      "    accuracy                           0.80       179\n",
      "   macro avg       0.80      0.80      0.80       179\n",
      "weighted avg       0.80      0.80      0.80       179\n",
      "\n"
     ]
    },
    {
     "data": {
      "image/png": "[encoded data removed]",
      "text/plain": [
       "<Figure size 600x400 with 2 Axes>"
      ]
     },
     "metadata": {},
     "output_type": "display_data"
    },
    {
     "name": "stdout",
     "output_type": "stream",
     "text": [
      "                            Model  F1_score       AUC\n",
      "0  Logistic Regression (Pipeline)  0.765101  0.843887\n"
     ]
    }
   ],
   "source": [
    "import pandas as pd\n",
    "import numpy as np\n",
    "from sklearn.pipeline import Pipeline\n",
    "from sklearn.compose import ColumnTransformer\n",
    "from sklearn.impute import SimpleImputer\n",
    "from sklearn.preprocessing import StandardScaler, PolynomialFeatures, OneHotEncoder\n",
    "from sklearn.decomposition import PCA\n",
    "from sklearn.linear_model import LogisticRegression\n",
    "from sklearn.metrics import classification_report, f1_score, roc_auc_score, confusion_matrix\n",
    "from sklearn.base import BaseEstimator, TransformerMixin\n",
    "from sklearn.model_selection import train_test_split\n",
    "import seaborn as sns\n",
    "import matplotlib.pyplot as plt\n",
    "\n",
    "# Custom Transformer dla kolumny Name\n",
    "class FilterName(BaseEstimator, TransformerMixin):\n",
    "    def __init__(self, column):\n",
    "        self.column = column\n",
    "\n",
    "    def fit(self, X, y=None):\n",
    "        return self\n",
    "\n",
    "    def transform(self, X, y=None):\n",
    "        X_transformed = X.copy()\n",
    "        column = self.column\n",
    "        X_transformed[column] = X_transformed[column].str.split(', ', expand=True)[1].str.split('.', expand=True)[0]\n",
    "        X_transformed.loc[~X_transformed[column].isin(['Mr', 'Miss', 'Mrs']), column] = 'Other'\n",
    "        return X_transformed\n",
    "\n",
    "# Wczytanie danych Titanic\n",
    "data = pd.read_csv('C:/Users/mpiesio/Desktop/KODILLA/wizualizacja/titanic.csv') \n",
    "\n",
    "# Wybór cech i zmiennej docelowej\n",
    "num_features = ['Age', 'SibSp', 'Parch', 'Fare']\n",
    "cat_features = ['Name', 'Sex', 'Embarked']\n",
    "X = data[num_features + cat_features]\n",
    "y = data['Survived']\n",
    "\n",
    "# Podział na zbiór treningowy i testowy\n",
    "X_train, X_test, y_train, y_test = train_test_split(X, y, test_size=0.2, random_state=42)\n",
    "\n",
    "# Pipeline dla zmiennych numerycznych\n",
    "num_preparation = Pipeline(steps=[\n",
    "    ('fill_missings', SimpleImputer(strategy='mean')),\n",
    "    ('polynomial_features', PolynomialFeatures(degree=2)),\n",
    "    ('scaler_1', StandardScaler()),\n",
    "    ('pca', PCA(n_components=0.95)),\n",
    "    ('scaler_2', StandardScaler())\n",
    "])\n",
    "\n",
    "# Pipeline dla zmiennych kategorycznych\n",
    "cat_preparation = Pipeline(steps=[\n",
    "    ('filter_name', FilterName(column='Name')),\n",
    "    ('fill_missings', SimpleImputer(strategy='most_frequent')),\n",
    "    ('encoder', OneHotEncoder(sparse_output=False, handle_unknown='ignore'))\n",
    "])\n",
    "\n",
    "# Połączenie w ColumnTransformer\n",
    "data_preparation = ColumnTransformer(transformers=[\n",
    "    ('numeric_preprocessing', num_preparation, num_features),\n",
    "    ('categorical_preprocessing', cat_preparation, cat_features)\n",
    "])\n",
    "\n",
    "# Pipeline z modelem\n",
    "model_pipeline = Pipeline(steps=[\n",
    "    ('preprocessor', data_preparation),\n",
    "    ('model', LogisticRegression(max_iter=10000))\n",
    "])\n",
    "\n",
    "# Trenowanie modelu\n",
    "model_pipeline.fit(X_train, y_train)\n",
    "\n",
    "# Funkcja do oceny modelu\n",
    "def calculate_metrics(model, name, X_checked, y_checked):\n",
    "    predictions = model.predict(X_checked)\n",
    "    predictions_proba = model.predict_proba(X_checked)[:, 1]\n",
    "    \n",
    "    # Metryki\n",
    "    print(f\"\\nWyniki dla modelu: {name}\")\n",
    "    print(classification_report(y_checked, predictions))\n",
    "    \n",
    "    # Macierz pomyłek\n",
    "    cm = confusion_matrix(y_checked, predictions)\n",
    "    plt.figure(figsize=(6, 4))\n",
    "    sns.heatmap(cm, annot=True, cmap='Blues', fmt='.0f')\n",
    "    plt.title('Confusion Matrix')\n",
    "    plt.xlabel('Predicted Values')\n",
    "    plt.ylabel('Actual Values')\n",
    "    plt.show()\n",
    "    \n",
    "    # Metryki F1 i AUC\n",
    "    f1 = f1_score(y_checked, predictions)\n",
    "    auc = roc_auc_score(y_checked, predictions_proba)\n",
    "    return {'Model': name, 'F1_score': f1, 'AUC': auc}\n",
    "\n",
    "# Ocena modelu\n",
    "metrics = calculate_metrics(model_pipeline, 'Logistic Regression (Pipeline)', X_test, y_test)\n",
    "\n",
    "# Wyświetlenie metryk\n",
    "metrics_df = pd.DataFrame([metrics])\n",
    "print(metrics_df)"
   ]
  },
  {
   "cell_type": "code",
   "execution_count": null,
   "id": "4d4e5322-3e63-46b5-beba-76f158c8932a",
   "metadata": {},
   "outputs": [],
   "source": []
  }
 ],
 "metadata": {
  "kernelspec": {
   "display_name": "Python 3 (ipykernel)",
   "language": "python",
   "name": "python3"
  },
  "language_info": {
   "codemirror_mode": {
    "name": "ipython",
    "version": 3
   },
   "file_extension": ".py",
   "mimetype": "text/x-python",
   "name": "python",
   "nbconvert_exporter": "python",
   "pygments_lexer": "ipython3",
   "version": "3.11.0"
  }
 },
 "nbformat": 4,
 "nbformat_minor": 5
}
